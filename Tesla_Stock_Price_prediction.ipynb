{
  "nbformat": 4,
  "nbformat_minor": 0,
  "metadata": {
    "colab": {
      "provenance": [],
      "mount_file_id": "1Mylqb3tujaNwLukPOwNxQZRVLEwgTzkO",
      "authorship_tag": "ABX9TyNubnJ+n7Gk81xIW/CvUUrZ",
      "include_colab_link": true
    },
    "kernelspec": {
      "name": "python3",
      "display_name": "Python 3"
    },
    "language_info": {
      "name": "python"
    }
  },
  "cells": [
    {
      "cell_type": "markdown",
      "metadata": {
        "id": "view-in-github",
        "colab_type": "text"
      },
      "source": [
        "<a href=\"https://colab.research.google.com/github/MusabUmama/TSLA_Stock_Price_Prediction/blob/main/Tesla_Stock_Price_prediction.ipynb\" target=\"_parent\"><img src=\"https://colab.research.google.com/assets/colab-badge.svg\" alt=\"Open In Colab\"/></a>"
      ]
    },
    {
      "cell_type": "code",
      "execution_count": 18,
      "metadata": {
        "id": "cI1COYmXtzQv"
      },
      "outputs": [],
      "source": [
        "import pandas as pd"
      ]
    },
    {
      "cell_type": "code",
      "source": [
        "df = pd.read_csv('/content/tesla_historical_data_jan_to_aug_2023.csv')\n",
        "\n",
        "df.fillna(df.mean(), inplace=True)\n",
        "\n",
        "df['Date'] = pd.to_datetime(df['Date'])"
      ],
      "metadata": {
        "id": "wDggBO2avyK0"
      },
      "execution_count": null,
      "outputs": []
    },
    {
      "cell_type": "code",
      "source": [
        "df['Close/Last'] = df['Close/Last'].str.replace('$', '').str.replace(',', '')\n",
        "\n",
        "df['Close/Last'] = pd.to_numeric(df['Close/Last'], errors='coerce')"
      ],
      "metadata": {
        "id": "jwa2KwVJzVqP"
      },
      "execution_count": null,
      "outputs": []
    },
    {
      "cell_type": "code",
      "source": [
        "df['Daily_Return'] = df['Close/Last'].pct_change()\n",
        "\n",
        "def calculate_moving_average(data, window):\n",
        "    return data.rolling(window=window, min_periods=1).mean()\n",
        "\n",
        "df['7_Day_MA'] = calculate_moving_average(df['Close/Last'], window=7)\n",
        "df['30_Day_MA'] = calculate_moving_average(df['Close/Last'], window=30)"
      ],
      "metadata": {
        "id": "RixiO7sZwjxo"
      },
      "execution_count": 23,
      "outputs": []
    },
    {
      "cell_type": "code",
      "source": [
        "print(df.head())"
      ],
      "metadata": {
        "colab": {
          "base_uri": "https://localhost:8080/"
        },
        "id": "sCy1-km7xQm7",
        "outputId": "83c88b46-83a5-4e58-f656-77ceac25cc5f"
      },
      "execution_count": 24,
      "outputs": [
        {
          "output_type": "stream",
          "name": "stdout",
          "text": [
            "        Date  Close/Last     Volume     Open       High      Low  \\\n",
            "0 2023-09-01      245.01  132541600  $257.26  $259.0794  $242.01   \n",
            "1 2023-08-31      258.08  108861700  $255.98    $261.18  $255.05   \n",
            "2 2023-08-30      256.90  121988400  $254.20    $260.51  $250.59   \n",
            "3 2023-08-29      257.18  134047600  $238.58    $257.48  $237.77   \n",
            "4 2023-08-28      238.82  107673700  $242.58    $244.38  $235.35   \n",
            "\n",
            "   Daily_Return  7_Day_MA  30_Day_MA  \n",
            "0           NaN  245.0100   245.0100  \n",
            "1      0.053345  251.5450   251.5450  \n",
            "2     -0.004572  253.3300   253.3300  \n",
            "3      0.001090  254.2925   254.2925  \n",
            "4     -0.071390  251.1980   251.1980  \n"
          ]
        }
      ]
    },
    {
      "cell_type": "code",
      "source": [],
      "metadata": {
        "id": "MkcVj4Kpz_HT"
      },
      "execution_count": null,
      "outputs": []
    }
  ]
}