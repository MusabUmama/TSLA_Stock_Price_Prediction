{
  "nbformat": 4,
  "nbformat_minor": 0,
  "metadata": {
    "colab": {
      "provenance": [],
      "mount_file_id": "1Mylqb3tujaNwLukPOwNxQZRVLEwgTzkO",
      "authorship_tag": "ABX9TyNaXwa+DpwNsXOUGOQKDH9S",
      "include_colab_link": true
    },
    "kernelspec": {
      "name": "python3",
      "display_name": "Python 3"
    },
    "language_info": {
      "name": "python"
    }
  },
  "cells": [
    {
      "cell_type": "markdown",
      "metadata": {
        "id": "view-in-github",
        "colab_type": "text"
      },
      "source": [
        "<a href=\"https://colab.research.google.com/github/MusabUmama/TSLA_Stock_Price_Prediction/blob/main/Tesla_Stock_Price_prediction.ipynb\" target=\"_parent\"><img src=\"https://colab.research.google.com/assets/colab-badge.svg\" alt=\"Open In Colab\"/></a>"
      ]
    },
    {
      "cell_type": "code",
      "execution_count": 79,
      "metadata": {
        "id": "cI1COYmXtzQv"
      },
      "outputs": [],
      "source": [
        "import pandas as pd"
      ]
    },
    {
      "cell_type": "code",
      "source": [
        "df = pd.read_csv('/content/tesla_historical_data_jan_to_aug_2023.csv')\n",
        "\n",
        "df.fillna(df.mean(), inplace=True)\n",
        "\n",
        "df['Date'] = pd.to_datetime(df['Date'])\n",
        "\n",
        "def convert_dollar_string_to_number(cell):\n",
        "    if isinstance(cell, str) and cell.startswith('$'):\n",
        "        # Remove dollar sign and commas, and convert to float\n",
        "        return float(cell.replace('$', '').replace(',', ''))\n",
        "    else:\n",
        "        return cell\n",
        "\n",
        "df = df.applymap(convert_dollar_string_to_number)"
      ],
      "metadata": {
        "colab": {
          "base_uri": "https://localhost:8080/"
        },
        "id": "wDggBO2avyK0",
        "outputId": "90851613-9bd2-4553-bfd9-a55282fce029"
      },
      "execution_count": 80,
      "outputs": [
        {
          "output_type": "stream",
          "name": "stderr",
          "text": [
            "<ipython-input-80-ff10095c1c95>:3: FutureWarning: The default value of numeric_only in DataFrame.mean is deprecated. In a future version, it will default to False. In addition, specifying 'numeric_only=None' is deprecated. Select only valid columns or specify the value of numeric_only to silence this warning.\n",
            "  df.fillna(df.mean(), inplace=True)\n"
          ]
        }
      ]
    },
    {
      "cell_type": "code",
      "source": [
        "df['Daily_Return'] = df['Close/Last'].pct_change()\n",
        "\n",
        "def calculate_moving_average(data, window):\n",
        "    return data.rolling(window=window, min_periods=1).mean()\n",
        "\n",
        "df['7_Day_MA'] = calculate_moving_average(df['Close/Last'], window=7)\n",
        "df['30_Day_MA'] = calculate_moving_average(df['Close/Last'], window=30)"
      ],
      "metadata": {
        "id": "RixiO7sZwjxo"
      },
      "execution_count": 81,
      "outputs": []
    },
    {
      "cell_type": "code",
      "source": [
        "df.dropna(subset=['Daily_Return'], inplace=True)"
      ],
      "metadata": {
        "id": "jwa2KwVJzVqP"
      },
      "execution_count": 82,
      "outputs": []
    },
    {
      "cell_type": "code",
      "source": [
        "print(df.head())"
      ],
      "metadata": {
        "colab": {
          "base_uri": "https://localhost:8080/"
        },
        "id": "sCy1-km7xQm7",
        "outputId": "b254b79b-a90d-406e-dfec-9024af123ea8"
      },
      "execution_count": 83,
      "outputs": [
        {
          "output_type": "stream",
          "name": "stdout",
          "text": [
            "        Date  Close/Last     Volume    Open    High     Low  Daily_Return  \\\n",
            "1 2023-08-31      258.08  108861700  255.98  261.18  255.05      0.053345   \n",
            "2 2023-08-30      256.90  121988400  254.20  260.51  250.59     -0.004572   \n",
            "3 2023-08-29      257.18  134047600  238.58  257.48  237.77      0.001090   \n",
            "4 2023-08-28      238.82  107673700  242.58  244.38  235.35     -0.071390   \n",
            "5 2023-08-25      238.59  106612200  231.31  239.00  230.35     -0.000963   \n",
            "\n",
            "     7_Day_MA   30_Day_MA  \n",
            "1  251.545000  251.545000  \n",
            "2  253.330000  253.330000  \n",
            "3  254.292500  254.292500  \n",
            "4  251.198000  251.198000  \n",
            "5  249.096667  249.096667  \n"
          ]
        }
      ]
    },
    {
      "cell_type": "code",
      "source": [
        "from sklearn.model_selection import train_test_split\n",
        "from sklearn.linear_model import LinearRegression\n",
        "from sklearn.metrics import mean_absolute_error, mean_squared_error\n",
        "import numpy as np"
      ],
      "metadata": {
        "id": "MkcVj4Kpz_HT"
      },
      "execution_count": 84,
      "outputs": []
    },
    {
      "cell_type": "code",
      "source": [
        "split_date = '2023-06-01'\n",
        "\n",
        "train_data = df[df['Date'] < split_date]\n",
        "test_data = df[df['Date'] >= split_date]"
      ],
      "metadata": {
        "id": "TLtJKFzc1q-P"
      },
      "execution_count": 85,
      "outputs": []
    },
    {
      "cell_type": "code",
      "source": [
        "X_train = train_data[['Open', 'High', 'Low', 'Volume', '7_Day_MA', '30_Day_MA']]\n",
        "y_train = train_data['Daily_Return']\n",
        "X_test = test_data[['Open', 'High', 'Low', 'Volume', '7_Day_MA', '30_Day_MA']]\n",
        "y_test = test_data['Daily_Return']"
      ],
      "metadata": {
        "id": "hKE39bdw2eQX"
      },
      "execution_count": 86,
      "outputs": []
    },
    {
      "cell_type": "code",
      "source": [
        "model = LinearRegression()\n",
        "model.fit(X_train, y_train)"
      ],
      "metadata": {
        "id": "x2ZULFfp2hk1"
      },
      "execution_count": null,
      "outputs": []
    },
    {
      "cell_type": "code",
      "source": [
        "y_pred = model.predict(X_test)"
      ],
      "metadata": {
        "id": "iE5miv2q32L-"
      },
      "execution_count": 88,
      "outputs": []
    },
    {
      "cell_type": "code",
      "source": [
        "mae = mean_absolute_error(y_test, y_pred)\n",
        "mse = mean_squared_error(y_test, y_pred)\n",
        "rmse = np.sqrt(mse)\n",
        "\n",
        "print(f'Mean Absolute Error (MAE): {mae:.4f}')\n",
        "print(f'Mean Squared Error (MSE): {mse:.4f}')\n",
        "print(f'Root Mean Squared Error (RMSE): {rmse:.4f}')"
      ],
      "metadata": {
        "colab": {
          "base_uri": "https://localhost:8080/"
        },
        "id": "pV9PiQdL35uF",
        "outputId": "a8d3dfc9-f7dc-4ee0-8c8c-dba10e3ecfa4"
      },
      "execution_count": 89,
      "outputs": [
        {
          "output_type": "stream",
          "name": "stdout",
          "text": [
            "Mean Absolute Error (MAE): 0.0212\n",
            "Mean Squared Error (MSE): 0.0008\n",
            "Root Mean Squared Error (RMSE): 0.0279\n"
          ]
        }
      ]
    },
    {
      "cell_type": "code",
      "source": [
        "new_open_value = 250.00\n",
        "new_high_value = 258.00\n",
        "new_low_value = 247.00\n",
        "new_volume_value = 108861700\n",
        "new_7_day_ma_value = 255.50\n",
        "new_30_day_ma_value = 253.00\n",
        "\n",
        "\n",
        "new_data = pd.DataFrame({\n",
        "    'Open': [new_open_value],\n",
        "    'High': [new_high_value],\n",
        "    'Low': [new_low_value],\n",
        "    'Volume': [new_volume_value],\n",
        "    '7_Day_MA': [new_7_day_ma_value],\n",
        "    '30_Day_MA': [new_30_day_ma_value]\n",
        "})\n",
        "\n",
        "predicted_return = model.predict(new_data)\n",
        "print(f'Predicted Daily Return for New Data: {predicted_return[0]:.4f}')"
      ],
      "metadata": {
        "colab": {
          "base_uri": "https://localhost:8080/"
        },
        "id": "eV4Xxj0a6nua",
        "outputId": "e17c6baa-b9f7-4b9d-d6d9-28ecc77f9c4a"
      },
      "execution_count": 92,
      "outputs": [
        {
          "output_type": "stream",
          "name": "stdout",
          "text": [
            "Predicted Daily Return for New Data: 0.0027\n"
          ]
        }
      ]
    }
  ]
}