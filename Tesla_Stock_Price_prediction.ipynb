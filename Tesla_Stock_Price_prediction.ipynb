{
  "nbformat": 4,
  "nbformat_minor": 0,
  "metadata": {
    "colab": {
      "provenance": [],
      "mount_file_id": "1Mylqb3tujaNwLukPOwNxQZRVLEwgTzkO",
      "authorship_tag": "ABX9TyNSPlqot0rkLyNep7icq/vq",
      "include_colab_link": true
    },
    "kernelspec": {
      "name": "python3",
      "display_name": "Python 3"
    },
    "language_info": {
      "name": "python"
    }
  },
  "cells": [
    {
      "cell_type": "markdown",
      "metadata": {
        "id": "view-in-github",
        "colab_type": "text"
      },
      "source": [
        "<a href=\"https://colab.research.google.com/github/MusabUmama/TSLA_Stock_Price_Prediction/blob/main/Tesla_Stock_Price_prediction.ipynb\" target=\"_parent\"><img src=\"https://colab.research.google.com/assets/colab-badge.svg\" alt=\"Open In Colab\"/></a>"
      ]
    },
    {
      "cell_type": "markdown",
      "source": [
        "# **Tesla Stock Price Prediction**\n",
        "\n",
        "**The Dataset** - Stock prices data of TSLA from 2023 January to August.\n",
        "Source :- Nasdaq Website (https://www.nasdaq.com/market-activity/stocks/tsla/historical)"
      ],
      "metadata": {
        "id": "j7UdASB0SNQm"
      }
    },
    {
      "cell_type": "code",
      "execution_count": 37,
      "metadata": {
        "id": "cI1COYmXtzQv"
      },
      "outputs": [],
      "source": [
        "# Importing the pandas library\n",
        "import pandas as pd"
      ]
    },
    {
      "cell_type": "markdown",
      "source": [
        "*Data cleaning & Pre processing*"
      ],
      "metadata": {
        "id": "8SboCVPnSxr_"
      }
    },
    {
      "cell_type": "code",
      "source": [
        "# Importing the dataset\n",
        "df = pd.read_csv('/content/tesla_historical_data_jan_to_aug_2023.csv')\n",
        "\n",
        "# Filling the missing places with mean value\n",
        "df.fillna(df.mean(), inplace=True)\n",
        "\n",
        "# Converting the Date column to datetime format\n",
        "df['Date'] = pd.to_datetime(df['Date'])\n",
        "\n",
        "# Function to convert string with dollar sign into number\n",
        "def convert_dollar_string_to_number(cell):\n",
        "    if isinstance(cell, str) and cell.startswith('$'):\n",
        "        # Remove dollar sign and commas, and convert to float\n",
        "        return float(cell.replace('$', '').replace(',', ''))\n",
        "    else:\n",
        "        return cell\n",
        "\n",
        "# Applying the function\n",
        "df = df.applymap(convert_dollar_string_to_number)"
      ],
      "metadata": {
        "colab": {
          "base_uri": "https://localhost:8080/"
        },
        "id": "wDggBO2avyK0",
        "outputId": "84e36aed-330b-4e8a-bf4e-a5a2ba6e29b6"
      },
      "execution_count": 38,
      "outputs": [
        {
          "output_type": "stream",
          "name": "stderr",
          "text": [
            "<ipython-input-38-c9faa01f1dce>:5: FutureWarning: The default value of numeric_only in DataFrame.mean is deprecated. In a future version, it will default to False. In addition, specifying 'numeric_only=None' is deprecated. Select only valid columns or specify the value of numeric_only to silence this warning.\n",
            "  df.fillna(df.mean(), inplace=True)\n"
          ]
        }
      ]
    },
    {
      "cell_type": "code",
      "source": [
        "# Calculating the daily returns\n",
        "df['Daily_Return'] = df['Close/Last'].pct_change()\n",
        "\n",
        "# Function to calculate moving averages\n",
        "def calculate_moving_average(data, window):\n",
        "    return data.rolling(window=window, min_periods=1).mean()\n",
        "\n",
        "# Applying the function to find it for 7 days & 30 days\n",
        "df['7_Day_MA'] = calculate_moving_average(df['Close/Last'], window=7)\n",
        "df['30_Day_MA'] = calculate_moving_average(df['Close/Last'], window=30)"
      ],
      "metadata": {
        "id": "RixiO7sZwjxo"
      },
      "execution_count": 39,
      "outputs": []
    },
    {
      "cell_type": "code",
      "source": [
        "# Droping the daily return value with NaN\n",
        "df.dropna(subset=['Daily_Return'], inplace=True)"
      ],
      "metadata": {
        "id": "jwa2KwVJzVqP"
      },
      "execution_count": 40,
      "outputs": []
    },
    {
      "cell_type": "code",
      "source": [
        "print(df.head())"
      ],
      "metadata": {
        "colab": {
          "base_uri": "https://localhost:8080/"
        },
        "id": "sCy1-km7xQm7",
        "outputId": "6f7c7b64-c319-4f57-bb99-51b1f5953fd4"
      },
      "execution_count": 41,
      "outputs": [
        {
          "output_type": "stream",
          "name": "stdout",
          "text": [
            "        Date  Close/Last     Volume    Open    High     Low  Daily_Return  \\\n",
            "1 2023-08-31      258.08  108861700  255.98  261.18  255.05      0.053345   \n",
            "2 2023-08-30      256.90  121988400  254.20  260.51  250.59     -0.004572   \n",
            "3 2023-08-29      257.18  134047600  238.58  257.48  237.77      0.001090   \n",
            "4 2023-08-28      238.82  107673700  242.58  244.38  235.35     -0.071390   \n",
            "5 2023-08-25      238.59  106612200  231.31  239.00  230.35     -0.000963   \n",
            "\n",
            "     7_Day_MA   30_Day_MA  \n",
            "1  251.545000  251.545000  \n",
            "2  253.330000  253.330000  \n",
            "3  254.292500  254.292500  \n",
            "4  251.198000  251.198000  \n",
            "5  249.096667  249.096667  \n"
          ]
        }
      ]
    },
    {
      "cell_type": "markdown",
      "source": [
        "*Data splitting *"
      ],
      "metadata": {
        "id": "8O7I_U3vTIWU"
      }
    },
    {
      "cell_type": "code",
      "source": [
        "# Importing the scikit-learn & numpy libraries\n",
        "from sklearn.model_selection import train_test_split, GridSearchCV\n",
        "from sklearn.linear_model import LinearRegression\n",
        "from sklearn.metrics import mean_absolute_error, mean_squared_error\n",
        "import numpy as np"
      ],
      "metadata": {
        "id": "MkcVj4Kpz_HT"
      },
      "execution_count": 42,
      "outputs": []
    },
    {
      "cell_type": "code",
      "source": [
        "# Date threshold to split the dataset\n",
        "split_date = '2023-06-01'\n",
        "\n",
        "# Spliting the dataset (Time based)\n",
        "train_data = df[df['Date'] < split_date]\n",
        "test_data = df[df['Date'] >= split_date]"
      ],
      "metadata": {
        "id": "TLtJKFzc1q-P"
      },
      "execution_count": 43,
      "outputs": []
    },
    {
      "cell_type": "markdown",
      "source": [
        "*Feature selection* - Daily Return"
      ],
      "metadata": {
        "id": "9PpPoJGHTdUv"
      }
    },
    {
      "cell_type": "code",
      "source": [
        "# Features & target variables\n",
        "X_train = train_data[['Open', 'High', 'Low', 'Volume', '7_Day_MA', '30_Day_MA']]\n",
        "y_train = train_data['Daily_Return']\n",
        "X_test = test_data[['Open', 'High', 'Low', 'Volume', '7_Day_MA', '30_Day_MA']]\n",
        "y_test = test_data['Daily_Return']"
      ],
      "metadata": {
        "id": "hKE39bdw2eQX"
      },
      "execution_count": 44,
      "outputs": []
    },
    {
      "cell_type": "markdown",
      "source": [
        "*Model selection*"
      ],
      "metadata": {
        "id": "vY7-ddSHTkXh"
      }
    },
    {
      "cell_type": "code",
      "source": [
        "# The model (Linear Regression)\n",
        "model = LinearRegression()"
      ],
      "metadata": {
        "id": "x2ZULFfp2hk1"
      },
      "execution_count": 45,
      "outputs": []
    },
    {
      "cell_type": "markdown",
      "source": [
        "*Hyperparameter tuning & Model training*"
      ],
      "metadata": {
        "id": "F-RrOEm0TqQR"
      }
    },
    {
      "cell_type": "code",
      "source": [
        "# hyper parameters to tune\n",
        "param_grid = {\n",
        "    'fit_intercept': [True, False],\n",
        "}\n",
        "\n",
        "# Grid search\n",
        "grid_search = GridSearchCV(model, param_grid, cv=5, scoring='neg_mean_absolute_error')\n",
        "\n",
        "grid_search.fit(X_train, y_train)"
      ],
      "metadata": {
        "colab": {
          "base_uri": "https://localhost:8080/",
          "height": 117
        },
        "id": "Jfxh41BJNHxG",
        "outputId": "0d6702ff-a111-4ad4-a043-168024d3649b"
      },
      "execution_count": 46,
      "outputs": [
        {
          "output_type": "execute_result",
          "data": {
            "text/plain": [
              "GridSearchCV(cv=5, estimator=LinearRegression(),\n",
              "             param_grid={'fit_intercept': [True, False]},\n",
              "             scoring='neg_mean_absolute_error')"
            ],
            "text/html": [
              "<style>#sk-container-id-2 {color: black;background-color: white;}#sk-container-id-2 pre{padding: 0;}#sk-container-id-2 div.sk-toggleable {background-color: white;}#sk-container-id-2 label.sk-toggleable__label {cursor: pointer;display: block;width: 100%;margin-bottom: 0;padding: 0.3em;box-sizing: border-box;text-align: center;}#sk-container-id-2 label.sk-toggleable__label-arrow:before {content: \"▸\";float: left;margin-right: 0.25em;color: #696969;}#sk-container-id-2 label.sk-toggleable__label-arrow:hover:before {color: black;}#sk-container-id-2 div.sk-estimator:hover label.sk-toggleable__label-arrow:before {color: black;}#sk-container-id-2 div.sk-toggleable__content {max-height: 0;max-width: 0;overflow: hidden;text-align: left;background-color: #f0f8ff;}#sk-container-id-2 div.sk-toggleable__content pre {margin: 0.2em;color: black;border-radius: 0.25em;background-color: #f0f8ff;}#sk-container-id-2 input.sk-toggleable__control:checked~div.sk-toggleable__content {max-height: 200px;max-width: 100%;overflow: auto;}#sk-container-id-2 input.sk-toggleable__control:checked~label.sk-toggleable__label-arrow:before {content: \"▾\";}#sk-container-id-2 div.sk-estimator input.sk-toggleable__control:checked~label.sk-toggleable__label {background-color: #d4ebff;}#sk-container-id-2 div.sk-label input.sk-toggleable__control:checked~label.sk-toggleable__label {background-color: #d4ebff;}#sk-container-id-2 input.sk-hidden--visually {border: 0;clip: rect(1px 1px 1px 1px);clip: rect(1px, 1px, 1px, 1px);height: 1px;margin: -1px;overflow: hidden;padding: 0;position: absolute;width: 1px;}#sk-container-id-2 div.sk-estimator {font-family: monospace;background-color: #f0f8ff;border: 1px dotted black;border-radius: 0.25em;box-sizing: border-box;margin-bottom: 0.5em;}#sk-container-id-2 div.sk-estimator:hover {background-color: #d4ebff;}#sk-container-id-2 div.sk-parallel-item::after {content: \"\";width: 100%;border-bottom: 1px solid gray;flex-grow: 1;}#sk-container-id-2 div.sk-label:hover label.sk-toggleable__label {background-color: #d4ebff;}#sk-container-id-2 div.sk-serial::before {content: \"\";position: absolute;border-left: 1px solid gray;box-sizing: border-box;top: 0;bottom: 0;left: 50%;z-index: 0;}#sk-container-id-2 div.sk-serial {display: flex;flex-direction: column;align-items: center;background-color: white;padding-right: 0.2em;padding-left: 0.2em;position: relative;}#sk-container-id-2 div.sk-item {position: relative;z-index: 1;}#sk-container-id-2 div.sk-parallel {display: flex;align-items: stretch;justify-content: center;background-color: white;position: relative;}#sk-container-id-2 div.sk-item::before, #sk-container-id-2 div.sk-parallel-item::before {content: \"\";position: absolute;border-left: 1px solid gray;box-sizing: border-box;top: 0;bottom: 0;left: 50%;z-index: -1;}#sk-container-id-2 div.sk-parallel-item {display: flex;flex-direction: column;z-index: 1;position: relative;background-color: white;}#sk-container-id-2 div.sk-parallel-item:first-child::after {align-self: flex-end;width: 50%;}#sk-container-id-2 div.sk-parallel-item:last-child::after {align-self: flex-start;width: 50%;}#sk-container-id-2 div.sk-parallel-item:only-child::after {width: 0;}#sk-container-id-2 div.sk-dashed-wrapped {border: 1px dashed gray;margin: 0 0.4em 0.5em 0.4em;box-sizing: border-box;padding-bottom: 0.4em;background-color: white;}#sk-container-id-2 div.sk-label label {font-family: monospace;font-weight: bold;display: inline-block;line-height: 1.2em;}#sk-container-id-2 div.sk-label-container {text-align: center;}#sk-container-id-2 div.sk-container {/* jupyter's `normalize.less` sets `[hidden] { display: none; }` but bootstrap.min.css set `[hidden] { display: none !important; }` so we also need the `!important` here to be able to override the default hidden behavior on the sphinx rendered scikit-learn.org. See: https://github.com/scikit-learn/scikit-learn/issues/21755 */display: inline-block !important;position: relative;}#sk-container-id-2 div.sk-text-repr-fallback {display: none;}</style><div id=\"sk-container-id-2\" class=\"sk-top-container\"><div class=\"sk-text-repr-fallback\"><pre>GridSearchCV(cv=5, estimator=LinearRegression(),\n",
              "             param_grid={&#x27;fit_intercept&#x27;: [True, False]},\n",
              "             scoring=&#x27;neg_mean_absolute_error&#x27;)</pre><b>In a Jupyter environment, please rerun this cell to show the HTML representation or trust the notebook. <br />On GitHub, the HTML representation is unable to render, please try loading this page with nbviewer.org.</b></div><div class=\"sk-container\" hidden><div class=\"sk-item sk-dashed-wrapped\"><div class=\"sk-label-container\"><div class=\"sk-label sk-toggleable\"><input class=\"sk-toggleable__control sk-hidden--visually\" id=\"sk-estimator-id-4\" type=\"checkbox\" ><label for=\"sk-estimator-id-4\" class=\"sk-toggleable__label sk-toggleable__label-arrow\">GridSearchCV</label><div class=\"sk-toggleable__content\"><pre>GridSearchCV(cv=5, estimator=LinearRegression(),\n",
              "             param_grid={&#x27;fit_intercept&#x27;: [True, False]},\n",
              "             scoring=&#x27;neg_mean_absolute_error&#x27;)</pre></div></div></div><div class=\"sk-parallel\"><div class=\"sk-parallel-item\"><div class=\"sk-item\"><div class=\"sk-label-container\"><div class=\"sk-label sk-toggleable\"><input class=\"sk-toggleable__control sk-hidden--visually\" id=\"sk-estimator-id-5\" type=\"checkbox\" ><label for=\"sk-estimator-id-5\" class=\"sk-toggleable__label sk-toggleable__label-arrow\">estimator: LinearRegression</label><div class=\"sk-toggleable__content\"><pre>LinearRegression()</pre></div></div></div><div class=\"sk-serial\"><div class=\"sk-item\"><div class=\"sk-estimator sk-toggleable\"><input class=\"sk-toggleable__control sk-hidden--visually\" id=\"sk-estimator-id-6\" type=\"checkbox\" ><label for=\"sk-estimator-id-6\" class=\"sk-toggleable__label sk-toggleable__label-arrow\">LinearRegression</label><div class=\"sk-toggleable__content\"><pre>LinearRegression()</pre></div></div></div></div></div></div></div></div></div></div>"
            ]
          },
          "metadata": {},
          "execution_count": 46
        }
      ]
    },
    {
      "cell_type": "code",
      "source": [
        "# Best hyper parameters from the grid search\n",
        "best_params = grid_search.best_params_\n",
        "print(\"Best Hyperparameters:\", best_params)\n",
        "\n",
        "# The best model\n",
        "best_model = grid_search.best_estimator_"
      ],
      "metadata": {
        "colab": {
          "base_uri": "https://localhost:8080/"
        },
        "id": "sSyndtQsNpcy",
        "outputId": "7d54cdcd-f5e9-4ee8-dda7-961c77fce812"
      },
      "execution_count": 47,
      "outputs": [
        {
          "output_type": "stream",
          "name": "stdout",
          "text": [
            "Best Hyperparameters: {'fit_intercept': False}\n"
          ]
        }
      ]
    },
    {
      "cell_type": "markdown",
      "source": [
        "*Prediction*"
      ],
      "metadata": {
        "id": "d0oRvaGUTyw9"
      }
    },
    {
      "cell_type": "code",
      "source": [
        "# Prediction using the best model\n",
        "y_pred = best_model.predict(X_test)"
      ],
      "metadata": {
        "id": "7fHHdFZsNsVZ"
      },
      "execution_count": 48,
      "outputs": []
    },
    {
      "cell_type": "markdown",
      "source": [
        "*Model evaluation*"
      ],
      "metadata": {
        "id": "BUnWOC4sT7Lt"
      }
    },
    {
      "cell_type": "code",
      "source": [
        "# Calculating the Mean absolute error, Mean squared error & Root mean squared error\n",
        "mae = mean_absolute_error(y_test, y_pred)\n",
        "mse = mean_squared_error(y_test, y_pred)\n",
        "rmse = np.sqrt(mse)\n",
        "\n",
        "print(f'Mean Absolute Error (MAE): {mae:.4f}')\n",
        "print(f'Mean Squared Error (MSE): {mse:.4f}')\n",
        "print(f'Root Mean Squared Error (RMSE): {rmse:.4f}')"
      ],
      "metadata": {
        "colab": {
          "base_uri": "https://localhost:8080/"
        },
        "id": "pV9PiQdL35uF",
        "outputId": "e2cc3d4b-3f49-4ccd-c545-7286753897c3"
      },
      "execution_count": 49,
      "outputs": [
        {
          "output_type": "stream",
          "name": "stdout",
          "text": [
            "Mean Absolute Error (MAE): 0.0217\n",
            "Mean Squared Error (MSE): 0.0007\n",
            "Root Mean Squared Error (RMSE): 0.0265\n"
          ]
        }
      ]
    },
    {
      "cell_type": "markdown",
      "source": [
        "*Testing on new data*"
      ],
      "metadata": {
        "id": "CsFiezW1UXJL"
      }
    },
    {
      "cell_type": "code",
      "source": [
        "# New values to predict\n",
        "new_open_value = 250.00\n",
        "new_high_value = 258.00\n",
        "new_low_value = 247.00\n",
        "new_volume_value = 108861700\n",
        "new_7_day_ma_value = 255.50\n",
        "new_30_day_ma_value = 253.00\n",
        "\n",
        "\n",
        "new_data = pd.DataFrame({\n",
        "    'Open': [new_open_value],\n",
        "    'High': [new_high_value],\n",
        "    'Low': [new_low_value],\n",
        "    'Volume': [new_volume_value],\n",
        "    '7_Day_MA': [new_7_day_ma_value],\n",
        "    '30_Day_MA': [new_30_day_ma_value]\n",
        "})\n",
        "\n",
        "predicted_return = best_model.predict(new_data)\n",
        "print(f'Predicted Daily Return for New Data: {predicted_return[0]:.4f}')"
      ],
      "metadata": {
        "colab": {
          "base_uri": "https://localhost:8080/"
        },
        "id": "eV4Xxj0a6nua",
        "outputId": "e37a5eb7-a96b-427c-f411-606dec1dfcb0"
      },
      "execution_count": 50,
      "outputs": [
        {
          "output_type": "stream",
          "name": "stdout",
          "text": [
            "Predicted Daily Return for New Data: -0.0053\n"
          ]
        }
      ]
    }
  ]
}